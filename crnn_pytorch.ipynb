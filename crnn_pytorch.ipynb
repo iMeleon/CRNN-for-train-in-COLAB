{
  "nbformat": 4,
  "nbformat_minor": 0,
  "metadata": {
    "colab": {
      "name": "crnn-pytorch.ipynb",
      "provenance": [],
      "collapsed_sections": []
    },
    "kernelspec": {
      "name": "python3",
      "display_name": "Python 3"
    },
    "accelerator": "GPU"
  },
  "cells": [
    {
      "cell_type": "code",
      "metadata": {
        "id": "BPs_L0OUX4O8",
        "colab": {
          "base_uri": "https://localhost:8080/"
        },
        "outputId": "de45ea77-c447-4a60-e882-285d103c51ec"
      },
      "source": [
        "%load_ext autoreload\n",
        "%autoreload 2\n",
        "!git clone https://github.com/iMeleon/captcha-recognition-pytorch\n",
        "%cd /content/captcha-recognition-pytorch\n",
        "# !wget https://github.com/AakashKumarNain/CaptchaCracker/raw/master/captcha_images_v2.zip\n",
        "# !unzip  captcha_images_v2.zip\n",
        "# %cd ..\n"
      ],
      "execution_count": null,
      "outputs": [
        {
          "output_type": "stream",
          "text": [
            "Cloning into 'captcha-recognition-pytorch'...\n",
            "remote: Enumerating objects: 51, done.\u001b[K\n",
            "remote: Counting objects: 100% (51/51), done.\u001b[K\n",
            "remote: Compressing objects: 100% (38/38), done.\u001b[K\n",
            "remote: Total 51 (delta 26), reused 27 (delta 11), pack-reused 0\u001b[K\n",
            "Unpacking objects: 100% (51/51), done.\n",
            "/content/captcha-recognition-pytorch\n"
          ],
          "name": "stdout"
        }
      ]
    },
    {
      "cell_type": "code",
      "metadata": {
        "id": "DLa6LmNCgEAp",
        "colab": {
          "base_uri": "https://localhost:8080/"
        },
        "outputId": "73c3d364-7758-43fa-cb8f-f12af42d6d85"
      },
      "source": [
        "from google.colab import drive\n",
        "drive.mount('/content/gdrive')"
      ],
      "execution_count": null,
      "outputs": [
        {
          "output_type": "stream",
          "text": [
            "Mounted at /content/gdrive\n"
          ],
          "name": "stdout"
        }
      ]
    },
    {
      "cell_type": "code",
      "metadata": {
        "id": "9j03t4xnNb9Q"
      },
      "source": [
        "config = '''\n",
        "DATA_DIR = \"\"\n",
        "MODEL_SAVE_PATH = \"\n",
        "LABEL_ENCODER_SAVE_PATH = \"\"\n",
        "BATCH_SIZE = 1\n",
        "IMAGE_WIDTH = 150\n",
        "IMAGE_HEIGHT = 38\n",
        "NUM_WORKERS = 8\n",
        "EPOCHS = 200\n",
        "DEVICE = \"cuda\"\n",
        "'''\n",
        "with open('config.py', 'w') as f:\n",
        "    f.write(config)\n"
      ],
      "execution_count": null,
      "outputs": []
    },
    {
      "cell_type": "markdown",
      "metadata": {
        "id": "V8JCqo-oWmId"
      },
      "source": [
        ""
      ]
    },
    {
      "cell_type": "code",
      "metadata": {
        "id": "qkR_9zzZNcDf"
      },
      "source": [
        ""
      ],
      "execution_count": null,
      "outputs": []
    },
    {
      "cell_type": "code",
      "metadata": {
        "id": "TbDrWNvXgRFs",
        "colab": {
          "base_uri": "https://localhost:8080/"
        },
        "outputId": "dc3f5af6-45b9-470f-ba52-6c14bba8f51b"
      },
      "source": [
        "!python train.py"
      ],
      "execution_count": null,
      "outputs": [
        {
          "output_type": "stream",
          "text": [
            "100% 7056/7056 [03:58<00:00, 29.58it/s]\n",
            "100% 784/784 [00:26<00:00, 29.44it/s]\n",
            "[('3.6', '2'), ('3.6', '2'), ('2', '2'), ('1', '2'), ('17.5', '2'), ('2', '2'), ('1.4', '2'), ('1', '1'), ('1.4', '2'), ('0.5', '1')]\n",
            "Epoch=0, Train Loss=2.733660974558823, Test Loss=1.892460503786498 Accuracy=0.3469387755102041\n",
            "100% 7056/7056 [01:39<00:00, 71.09it/s]\n",
            "100% 784/784 [00:05<00:00, 155.69it/s]\n",
            "[('3.6', '2'), ('3.6', '2'), ('2', '2'), ('1', '0.'), ('17.5', '1.'), ('2', '2'), ('1.4', '1'), ('1', '1'), ('1.4', '1'), ('0.5', '0')]\n",
            "Epoch=1, Train Loss=1.5322346919218328, Test Loss=1.5825118490456775 Accuracy=0.4030612244897959\n",
            "100% 7056/7056 [01:39<00:00, 71.00it/s]\n",
            "100% 784/784 [00:04<00:00, 163.17it/s]\n",
            "[('3.6', '3.5'), ('3.6', '0.5'), ('2', '2'), ('1', '0.5'), ('17.5', '1.'), ('2', '2'), ('1.4', '1.'), ('1', '1'), ('1.4', '1.'), ('0.5', '0.')]\n",
            "Epoch=2, Train Loss=1.1007536380797784, Test Loss=1.0969973091720318 Accuracy=0.5255102040816326\n",
            "100% 7056/7056 [01:39<00:00, 70.95it/s]\n",
            "100% 784/784 [00:04<00:00, 167.51it/s]\n",
            "[('3.6', '3.'), ('3.6', '3.'), ('2', '2'), ('1', '1.'), ('17.5', '1.'), ('2', '2'), ('1.4', '1.'), ('1', '1'), ('1.4', '1.'), ('0.5', '0.5')]\n",
            "Epoch=3, Train Loss=0.9421920960599054, Test Loss=0.8887203195540957 Accuracy=0.5650510204081632\n",
            "100% 7056/7056 [01:39<00:00, 70.64it/s]\n",
            "100% 784/784 [00:04<00:00, 163.44it/s]\n",
            "[('3.6', '3.'), ('3.6', '3.'), ('2', '2'), ('1', '0.'), ('17.5', '17.5'), ('2', '2'), ('1.4', '1.'), ('1', '1'), ('1.4', '1.'), ('0.5', '0.5')]\n",
            "Epoch=4, Train Loss=0.798543563683078, Test Loss=0.6589473410704344 Accuracy=0.6441326530612245\n",
            "100% 7056/7056 [01:41<00:00, 69.85it/s]\n",
            "100% 784/784 [00:04<00:00, 160.13it/s]\n",
            "[('3.6', '3.'), ('3.6', '3.'), ('2', '2'), ('1', '2.'), ('17.5', '2.5'), ('2', '2'), ('1.4', '1.'), ('1', '1'), ('1.4', '1.'), ('0.5', '0.5')]\n",
            "Epoch=5, Train Loss=0.7036773481764229, Test Loss=0.6272089967019476 Accuracy=0.6415816326530612\n",
            "100% 7056/7056 [01:41<00:00, 69.71it/s]\n",
            "100% 784/784 [00:04<00:00, 157.27it/s]\n",
            "[('3.6', '3.'), ('3.6', '3.'), ('2', '2'), ('1', '0.5'), ('17.5', '17.5'), ('2', '2'), ('1.4', '1.'), ('1', '1'), ('1.4', '1.'), ('0.5', '0.5')]\n",
            "Epoch=6, Train Loss=0.6179459183183847, Test Loss=0.5162637028486791 Accuracy=0.6900510204081632\n",
            "100% 7056/7056 [01:42<00:00, 68.68it/s]\n",
            "100% 784/784 [00:04<00:00, 157.28it/s]\n",
            "[('3.6', '3.'), ('3.6', '3.'), ('2', '2'), ('1', '0.'), ('17.5', '1.5'), ('2', '2'), ('1.4', '1.'), ('1', '1'), ('1.4', '1.'), ('0.5', '0.5')]\n",
            "Epoch=7, Train Loss=0.5583836909055144, Test Loss=0.4883153291290854 Accuracy=0.6785714285714286\n",
            "100% 7056/7056 [01:44<00:00, 67.47it/s]\n",
            "100% 784/784 [00:04<00:00, 157.96it/s]\n",
            "[('3.6', '3.'), ('3.6', '3.'), ('2', '2'), ('1', '0.5'), ('17.5', '17.5'), ('2', '2'), ('1.4', '1.'), ('1', '1'), ('1.4', '1.'), ('0.5', '0.5')]\n",
            "Epoch=8, Train Loss=0.48861753013800163, Test Loss=0.410300776324406 Accuracy=0.7053571428571429\n",
            "100% 7056/7056 [01:42<00:00, 68.53it/s]\n",
            "100% 784/784 [00:04<00:00, 163.54it/s]\n",
            "[('3.6', '3.'), ('3.6', '3.'), ('2', '2'), ('1', '1'), ('17.5', '17.'), ('2', '2'), ('1.4', '1.'), ('1', '1'), ('1.4', '1'), ('0.5', '0.5')]\n",
            "Epoch=9, Train Loss=0.46276165702714966, Test Loss=0.4452736114261064 Accuracy=0.7079081632653061\n",
            "100% 7056/7056 [01:43<00:00, 68.24it/s]\n",
            "100% 784/784 [00:05<00:00, 152.05it/s]\n",
            "[('3.6', '3.'), ('3.6', '3.'), ('2', '2'), ('1', '0.5'), ('17.5', '17.5'), ('2', '2'), ('1.4', '1.'), ('1', '1'), ('1.4', '1.'), ('0.5', '0.5')]\n",
            "Epoch=10, Train Loss=0.4141400190720455, Test Loss=0.35138026537250117 Accuracy=0.8061224489795918\n",
            "100% 7056/7056 [01:42<00:00, 68.63it/s]\n",
            "100% 784/784 [00:05<00:00, 155.44it/s]\n",
            "[('3.6', '3.6'), ('3.6', '3.6'), ('2', '2'), ('1', '2.'), ('17.5', '17.5'), ('2', '2'), ('1.4', '1.'), ('1', '1'), ('1.4', '1.4'), ('0.5', '0.5')]\n",
            "Epoch=11, Train Loss=0.3661877209644832, Test Loss=0.2698889658928906 Accuracy=0.8329081632653061\n",
            "100% 7056/7056 [01:43<00:00, 68.01it/s]\n",
            "100% 784/784 [00:04<00:00, 161.35it/s]\n",
            "[('3.6', '3.6'), ('3.6', '3.6'), ('2', '2'), ('1', '0.'), ('17.5', '17.5'), ('2', '2'), ('1.4', '1.'), ('1', '1'), ('1.4', '1.'), ('0.5', '0.5')]\n",
            "Epoch=12, Train Loss=0.3425256233100617, Test Loss=0.33097380322489733 Accuracy=0.7767857142857143\n",
            "100% 7056/7056 [01:43<00:00, 68.11it/s]\n",
            "100% 784/784 [00:04<00:00, 161.59it/s]\n",
            "[('3.6', '3.6'), ('3.6', '3.'), ('2', '2'), ('1', '2'), ('17.5', '17.5'), ('2', '2'), ('1.4', '1.4'), ('1', '1'), ('1.4', '1.4'), ('0.5', '0.5')]\n",
            "Epoch=13, Train Loss=0.3229880484045154, Test Loss=0.23910858979382152 Accuracy=0.8431122448979592\n",
            "100% 7056/7056 [01:43<00:00, 68.11it/s]\n",
            "100% 784/784 [00:05<00:00, 152.06it/s]\n",
            "[('3.6', '3.6'), ('3.6', '3.6'), ('2', '2'), ('1', '1.'), ('17.5', '17.5'), ('2', '2'), ('1.4', '1.4'), ('1', '1'), ('1.4', '1.4'), ('0.5', '0.5')]\n",
            "Epoch=14, Train Loss=0.2985909946498835, Test Loss=0.2447938028608962 Accuracy=0.8877551020408163\n",
            "100% 7056/7056 [01:41<00:00, 69.25it/s]\n",
            "100% 784/784 [00:04<00:00, 164.99it/s]\n",
            "[('3.6', '3.'), ('3.6', '3.6'), ('2', '2'), ('1', '0.'), ('17.5', '17.5'), ('2', '2'), ('1.4', '1.4'), ('1', '1'), ('1.4', '1.4'), ('0.5', '0.5')]\n",
            "Epoch=15, Train Loss=0.2958188934350395, Test Loss=0.21060038149732221 Accuracy=0.9005102040816326\n",
            "100% 7056/7056 [01:41<00:00, 69.80it/s]\n",
            "100% 784/784 [00:04<00:00, 160.01it/s]\n",
            "[('3.6', '3.6'), ('3.6', '3.6'), ('2', '2'), ('1', '2.'), ('17.5', '17.5'), ('2', '2'), ('1.4', '14'), ('1', '1'), ('1.4', '1.4'), ('0.5', '0.5')]\n",
            "Epoch=16, Train Loss=0.2859178131395822, Test Loss=0.17617730537610016 Accuracy=0.9145408163265306\n",
            "100% 7056/7056 [01:40<00:00, 69.95it/s]\n",
            "100% 784/784 [00:04<00:00, 158.52it/s]\n",
            "[('3.6', '3.6'), ('3.6', '3.6'), ('2', '2'), ('1', '0.'), ('17.5', '17.5'), ('2', '2'), ('1.4', '14'), ('1', '1'), ('1.4', '1.4'), ('0.5', '0.5')]\n",
            "Epoch=17, Train Loss=0.2710036590722835, Test Loss=0.19806656802111133 Accuracy=0.9005102040816326\n",
            "100% 7056/7056 [01:41<00:00, 69.74it/s]\n",
            "100% 784/784 [00:04<00:00, 163.05it/s]\n",
            "[('3.6', '3.6'), ('3.6', '3.6'), ('2', '2'), ('1', '2.'), ('17.5', '17.5'), ('2', '2'), ('1.4', '14'), ('1', '1'), ('1.4', '1.4'), ('0.5', '0.5')]\n",
            "Epoch=18, Train Loss=0.2625916199331001, Test Loss=0.1906202492667647 Accuracy=0.9285714285714286\n",
            "100% 7056/7056 [01:41<00:00, 69.62it/s]\n",
            "100% 784/784 [00:04<00:00, 164.62it/s]\n",
            "[('3.6', '3.'), ('3.6', '3.6'), ('2', '2'), ('1', '1'), ('17.5', '17.5'), ('2', '2'), ('1.4', '1.4'), ('1', '1'), ('1.4', '1.4'), ('0.5', '0.5')]\n",
            "Epoch=19, Train Loss=0.26395432517297307, Test Loss=0.19274750592101517 Accuracy=0.9132653061224489\n",
            "100% 7056/7056 [01:39<00:00, 71.06it/s]\n",
            "100% 784/784 [00:04<00:00, 163.57it/s]\n",
            "[('3.6', '3.6'), ('3.6', '3.6'), ('2', '2'), ('1', '2'), ('17.5', '17.5'), ('2', '2'), ('1.4', '1.4'), ('1', '1'), ('1.4', '1.4'), ('0.5', '0.5')]\n",
            "Epoch=20, Train Loss=0.2517805041882179, Test Loss=0.16423785375378913 Accuracy=0.9323979591836735\n",
            "100% 7056/7056 [01:39<00:00, 71.10it/s]\n",
            "100% 784/784 [00:04<00:00, 167.09it/s]\n",
            "[('3.6', '3.6'), ('3.6', '3.6'), ('2', '2'), ('1', '1'), ('17.5', '17.5'), ('2', '2'), ('1.4', '14'), ('1', '1'), ('1.4', '1.4'), ('0.5', '0.5')]\n",
            "Epoch=21, Train Loss=0.24847533078225384, Test Loss=0.16027032940444175 Accuracy=0.9477040816326531\n",
            "100% 7056/7056 [01:40<00:00, 70.51it/s]\n",
            "100% 784/784 [00:04<00:00, 165.83it/s]\n",
            "[('3.6', '3.6'), ('3.6', '3.6'), ('2', '2'), ('1', '1.'), ('17.5', '17.5'), ('2', '2'), ('1.4', '1.4'), ('1', '1'), ('1.4', '1.4'), ('0.5', '0.5')]\n",
            "Epoch=22, Train Loss=0.24905062011031798, Test Loss=0.17022518748037366 Accuracy=0.9387755102040817\n",
            "100% 7056/7056 [01:38<00:00, 71.34it/s]\n",
            "100% 784/784 [00:04<00:00, 166.82it/s]\n",
            "[('3.6', '3.6'), ('3.6', '3.6'), ('2', '2'), ('1', '0.'), ('17.5', '17.5'), ('2', '2'), ('1.4', '1.4'), ('1', '1'), ('1.4', '1.4'), ('0.5', '0.5')]\n",
            "Epoch=23, Train Loss=0.24500084705249556, Test Loss=0.1719109267340878 Accuracy=0.9336734693877551\n",
            "100% 7056/7056 [01:39<00:00, 70.69it/s]\n",
            "100% 784/784 [00:04<00:00, 165.21it/s]\n",
            "[('3.6', '3.6'), ('3.6', '3.6'), ('2', '2'), ('1', '2'), ('17.5', '17.5'), ('2', '2'), ('1.4', '1.4'), ('1', '1'), ('1.4', '1.4'), ('0.5', '0.5')]\n",
            "Epoch=24, Train Loss=0.24915383527850754, Test Loss=0.18657401702675627 Accuracy=0.9247448979591837\n",
            "100% 7056/7056 [01:42<00:00, 69.15it/s]\n",
            "100% 784/784 [00:04<00:00, 158.23it/s]\n",
            "[('3.6', '3.6'), ('3.6', '3.6'), ('2', '2'), ('1', '0'), ('17.5', '17.5'), ('2', '2'), ('1.4', '1.4'), ('1', '1'), ('1.4', '1.4'), ('0.5', '0.5')]\n",
            "Epoch=25, Train Loss=0.24525117928677242, Test Loss=0.1501126720567652 Accuracy=0.9477040816326531\n",
            "100% 7056/7056 [01:40<00:00, 70.02it/s]\n",
            "100% 784/784 [00:04<00:00, 161.57it/s]\n",
            "[('3.6', '3.6'), ('3.6', '3.6'), ('2', '2'), ('1', '1'), ('17.5', '17.5'), ('2', '2'), ('1.4', '1.4'), ('1', '1'), ('1.4', '1.4'), ('0.5', '0.5')]\n",
            "Epoch=26, Train Loss=0.24015571607636865, Test Loss=0.14975365830765924 Accuracy=0.9426020408163265\n",
            "100% 7056/7056 [01:40<00:00, 70.13it/s]\n",
            "100% 784/784 [00:04<00:00, 167.18it/s]\n",
            "[('3.6', '3.6'), ('3.6', '3.6'), ('2', '2'), ('1', '2'), ('17.5', '17.5'), ('2', '2'), ('1.4', '1.4'), ('1', '1'), ('1.4', '1.4'), ('0.5', '0.5')]\n",
            "Epoch=27, Train Loss=0.24080666740830933, Test Loss=0.20184648857209642 Accuracy=0.8903061224489796\n",
            "100% 7056/7056 [01:42<00:00, 69.06it/s]\n",
            "100% 784/784 [00:04<00:00, 157.43it/s]\n",
            "[('3.6', '3.6'), ('3.6', '3.6'), ('2', '2'), ('1', '1'), ('17.5', '17.5'), ('2', '2'), ('1.4', '1.4'), ('1', '1'), ('1.4', '1.4'), ('0.5', '0.5')]\n",
            "Epoch=28, Train Loss=0.24150096042069308, Test Loss=0.20247598704335526 Accuracy=0.8903061224489796\n",
            "100% 7056/7056 [01:40<00:00, 69.90it/s]\n",
            "100% 784/784 [00:04<00:00, 158.94it/s]\n",
            "[('3.6', '3.6'), ('3.6', '3.6'), ('2', '2'), ('1', '2.'), ('17.5', '17.5'), ('2', '2'), ('1.4', '14'), ('1', '1'), ('1.4', '1.4'), ('0.5', '0.5')]\n",
            "Epoch=29, Train Loss=0.22333570342796566, Test Loss=0.15092604532030088 Accuracy=0.9566326530612245\n",
            "100% 7056/7056 [01:40<00:00, 69.93it/s]\n",
            "100% 784/784 [00:04<00:00, 161.20it/s]\n",
            "[('3.6', '3.6'), ('3.6', '3.6'), ('2', '2'), ('1', '0.'), ('17.5', '17.5'), ('2', '2'), ('1.4', '1.4'), ('1', '1'), ('1.4', '1.4'), ('0.5', '0.5')]\n",
            "Epoch=30, Train Loss=0.23514150684834573, Test Loss=0.15897975851572593 Accuracy=0.9362244897959183\n",
            "100% 7056/7056 [01:42<00:00, 68.84it/s]\n",
            "100% 784/784 [00:05<00:00, 154.31it/s]\n",
            "[('3.6', '3.6'), ('3.6', '3.6'), ('2', '2'), ('1', '0'), ('17.5', '17.5'), ('2', '2'), ('1.4', '1.4'), ('1', '1'), ('1.4', '1.4'), ('0.5', '0.5')]\n",
            "Epoch=31, Train Loss=0.2230033992732666, Test Loss=0.21436141586948035 Accuracy=0.9260204081632653\n",
            "100% 7056/7056 [01:41<00:00, 69.26it/s]\n",
            "100% 784/784 [00:04<00:00, 160.23it/s]\n",
            "[('3.6', '3.6'), ('3.6', '3.6'), ('2', '2'), ('1', '0.'), ('17.5', '17.5'), ('2', '2'), ('1.4', '1.4'), ('1', '1'), ('1.4', '1.4'), ('0.5', '0.5')]\n",
            "Epoch=32, Train Loss=0.2195166902455064, Test Loss=0.18374826777156214 Accuracy=0.9285714285714286\n",
            "Epoch    33: reducing learning rate of group 0 to 2.4000e-04.\n",
            "100% 7056/7056 [01:42<00:00, 68.64it/s]\n",
            "100% 784/784 [00:05<00:00, 154.20it/s]\n",
            "[('3.6', '3.6'), ('3.6', '3.6'), ('2', '2'), ('1', '1'), ('17.5', '17.5'), ('2', '2'), ('1.4', '1.4'), ('1', '1'), ('1.4', '1.4'), ('0.5', '0.5')]\n",
            "Epoch=33, Train Loss=0.20906389520377927, Test Loss=0.13956296621650763 Accuracy=0.9630102040816326\n",
            "100% 7056/7056 [01:42<00:00, 68.51it/s]\n",
            "100% 784/784 [00:04<00:00, 160.42it/s]\n",
            "[('3.6', '3.6'), ('3.6', '3.6'), ('2', '2'), ('1', '1'), ('17.5', '17.5'), ('2', '2'), ('1.4', '1.4'), ('1', '1'), ('1.4', '1.4'), ('0.5', '0.5')]\n",
            "Epoch=34, Train Loss=0.20833545704492337, Test Loss=0.17172674358019377 Accuracy=0.9336734693877551\n",
            "100% 7056/7056 [01:40<00:00, 69.86it/s]\n",
            "100% 784/784 [00:04<00:00, 165.79it/s]\n",
            "[('3.6', '3.6'), ('3.6', '3.6'), ('2', '2'), ('1', '1'), ('17.5', '17.5'), ('2', '2'), ('1.4', '1.4'), ('1', '1'), ('1.4', '1.4'), ('0.5', '0.5')]\n",
            "Epoch=35, Train Loss=0.20415743385204546, Test Loss=0.2039988212743584 Accuracy=0.8941326530612245\n",
            "100% 7056/7056 [01:39<00:00, 70.60it/s]\n",
            "100% 784/784 [00:04<00:00, 163.83it/s]\n",
            "[('3.6', '3.6'), ('3.6', '3.'), ('2', '2'), ('1', '0.'), ('17.5', '17.5'), ('2', '2'), ('1.4', '1.4'), ('1', '1'), ('1.4', '1.4'), ('0.5', '0.5')]\n",
            "Epoch=36, Train Loss=0.20756214394251543, Test Loss=0.1929663483276773 Accuracy=0.9056122448979592\n",
            "100% 7056/7056 [01:41<00:00, 69.64it/s]\n",
            "100% 784/784 [00:04<00:00, 166.44it/s]\n",
            "[('3.6', '3.6'), ('3.6', '3.'), ('2', '2'), ('1', '1.'), ('17.5', '17.5'), ('2', '2'), ('1.4', '1.4'), ('1', '1'), ('1.4', '1.4'), ('0.5', '0.5')]\n",
            "Epoch=37, Train Loss=0.2108525830535366, Test Loss=0.14896700669635962 Accuracy=0.9489795918367347\n",
            "100% 7056/7056 [01:40<00:00, 69.93it/s]\n",
            "100% 784/784 [00:04<00:00, 159.82it/s]\n",
            "[('3.6', '3.6'), ('3.6', '3.6'), ('2', '2'), ('1', '0.'), ('17.5', '17.5'), ('2', '2'), ('1.4', '1.4'), ('1', '1'), ('1.4', '1.4'), ('0.5', '0.5')]\n",
            "Epoch=38, Train Loss=0.20439893672343865, Test Loss=0.1516935028532539 Accuracy=0.9413265306122449\n",
            "100% 7056/7056 [01:41<00:00, 69.76it/s]\n",
            "100% 784/784 [00:04<00:00, 157.75it/s]\n",
            "[('3.6', '3.6'), ('3.6', '3.6'), ('2', '2'), ('1', '0.'), ('17.5', '17.5'), ('2', '2'), ('1.4', '1.4'), ('1', '1'), ('1.4', '1.4'), ('0.5', '0.5')]\n",
            "Epoch=39, Train Loss=0.20067203349280466, Test Loss=0.15101030570031998 Accuracy=0.9604591836734694\n",
            "Epoch    40: reducing learning rate of group 0 to 1.9200e-04.\n",
            "100% 7056/7056 [01:41<00:00, 69.81it/s]\n",
            "100% 784/784 [00:04<00:00, 162.70it/s]\n",
            "[('3.6', '3.6'), ('3.6', '3.6'), ('2', '2'), ('1', '0.'), ('17.5', '17.5'), ('2', '2'), ('1.4', '1.4'), ('1', '1'), ('1.4', '1.4'), ('0.5', '0.5')]\n",
            "Epoch=40, Train Loss=0.18493910734902047, Test Loss=0.12827179021301813 Accuracy=0.9604591836734694\n",
            "100% 7056/7056 [01:41<00:00, 69.59it/s]\n",
            "100% 784/784 [00:04<00:00, 163.33it/s]\n",
            "[('3.6', '3.6'), ('3.6', '3.6'), ('2', '2'), ('1', '1'), ('17.5', '17.5'), ('2', '2'), ('1.4', '1.4'), ('1', '1'), ('1.4', '1.4'), ('0.5', '0.5')]\n",
            "Epoch=41, Train Loss=0.18730016097592986, Test Loss=0.1444920748294027 Accuracy=0.951530612244898\n",
            "100% 7056/7056 [01:41<00:00, 69.46it/s]\n",
            "100% 784/784 [00:04<00:00, 159.46it/s]\n",
            "[('3.6', '3.6'), ('3.6', '3.6'), ('2', '2'), ('1', '1'), ('17.5', '17.5'), ('2', '2'), ('1.4', '1.4'), ('1', '1'), ('1.4', '1.4'), ('0.5', '0.5')]\n",
            "Epoch=42, Train Loss=0.19436984413754577, Test Loss=0.14750630353168792 Accuracy=0.9642857142857143\n",
            "100% 7056/7056 [01:42<00:00, 68.60it/s]\n",
            "100% 784/784 [00:04<00:00, 164.37it/s]\n",
            "[('3.6', '3.6'), ('3.6', '3.6'), ('2', '2'), ('1', '0.'), ('17.5', '17.5'), ('2', '2'), ('1.4', '1.4'), ('1', '1'), ('1.4', '1.4'), ('0.5', '0.5')]\n",
            "Epoch=43, Train Loss=0.18430937507204065, Test Loss=0.14728428899044438 Accuracy=0.9336734693877551\n",
            "100% 7056/7056 [01:42<00:00, 68.92it/s]\n",
            "100% 784/784 [00:04<00:00, 160.20it/s]\n",
            "[('3.6', '3.6'), ('3.6', '3.6'), ('2', '2'), ('1', '1'), ('17.5', '17.5'), ('2', '2'), ('1.4', '1.4'), ('1', '1'), ('1.4', '1.4'), ('0.5', '0.5')]\n",
            "Epoch=44, Train Loss=0.18743973187005408, Test Loss=0.1468497477935114 Accuracy=0.9540816326530612\n",
            "100% 7056/7056 [01:42<00:00, 68.55it/s]\n",
            "100% 784/784 [00:05<00:00, 151.27it/s]\n",
            "[('3.6', '3.6'), ('3.6', '3.6'), ('2', '2'), ('1', '1.'), ('17.5', '17.5'), ('2', '2'), ('1.4', '1.4'), ('1', '1'), ('1.4', '1.4'), ('0.5', '0.5')]\n",
            "Epoch=45, Train Loss=0.18564141284470614, Test Loss=0.14010407356070165 Accuracy=0.9553571428571429\n",
            "100% 7056/7056 [01:42<00:00, 68.77it/s]\n",
            "100% 784/784 [00:04<00:00, 160.72it/s]\n",
            "[('3.6', '3.6'), ('3.6', '3.6'), ('2', '2'), ('1', '1'), ('17.5', '17.5'), ('2', '2'), ('1.4', '1.4'), ('1', '1'), ('1.4', '1.4'), ('0.5', '0.5')]\n",
            "Epoch=46, Train Loss=0.18915096653989397, Test Loss=0.12641232759793936 Accuracy=0.9693877551020408\n",
            "100% 7056/7056 [01:43<00:00, 67.93it/s]\n",
            "100% 784/784 [00:05<00:00, 152.79it/s]\n",
            "[('3.6', '3.6'), ('3.6', '3.6'), ('2', '2'), ('1', '0.'), ('17.5', '17.5'), ('2', '2'), ('1.4', '1.4'), ('1', '1'), ('1.4', '1.4'), ('0.5', '0.5')]\n",
            "Epoch=47, Train Loss=0.1848350398197201, Test Loss=0.18147566299576653 Accuracy=0.8966836734693877\n",
            "100% 7056/7056 [01:44<00:00, 67.37it/s]\n",
            "100% 784/784 [00:05<00:00, 155.76it/s]\n",
            "[('3.6', '3.6'), ('3.6', '3.6'), ('2', '2'), ('1', '1'), ('17.5', '17.5'), ('2', '2'), ('1.4', '1.4'), ('1', '1'), ('1.4', '1.4'), ('0.5', '0.5')]\n",
            "Epoch=48, Train Loss=0.18143849952680707, Test Loss=0.12475246382634897 Accuracy=0.9502551020408163\n",
            "100% 7056/7056 [01:44<00:00, 67.32it/s]\n",
            "100% 784/784 [00:04<00:00, 159.17it/s]\n",
            "[('3.6', '3.6'), ('3.6', '3.6'), ('2', '2'), ('1', '1'), ('17.5', '17.5'), ('2', '2'), ('1.4', '1.4'), ('1', '1'), ('1.4', '1.4'), ('0.5', '0.5')]\n",
            "Epoch=49, Train Loss=0.1812613276515157, Test Loss=0.1373579548719358 Accuracy=0.9489795918367347\n",
            "100% 7056/7056 [01:43<00:00, 68.33it/s]\n",
            "100% 784/784 [00:05<00:00, 154.68it/s]\n",
            "[('3.6', '3.6'), ('3.6', '3.6'), ('2', '2'), ('1', '1'), ('17.5', '17.5'), ('2', '2'), ('1.4', '1.4'), ('1', '1'), ('1.4', '1.4'), ('0.5', '0.5')]\n",
            "Epoch=50, Train Loss=0.17272747829594742, Test Loss=0.13016289774131276 Accuracy=0.951530612244898\n",
            "100% 7056/7056 [01:44<00:00, 67.63it/s]\n",
            "100% 784/784 [00:05<00:00, 155.91it/s]\n",
            "[('3.6', '3.6'), ('3.6', '3.6'), ('2', '2'), ('1', '0'), ('17.5', '17.5'), ('2', '2'), ('1.4', '1.4'), ('1', '1'), ('1.4', '1.4'), ('0.5', '0.5')]\n",
            "Epoch=51, Train Loss=0.17512223635833973, Test Loss=0.13474252771191794 Accuracy=0.9591836734693877\n",
            "100% 7056/7056 [01:43<00:00, 67.98it/s]\n",
            "100% 784/784 [00:05<00:00, 155.43it/s]\n",
            "[('3.6', '3.6'), ('3.6', '3.6'), ('2', '2'), ('1', '0.'), ('17.5', '17.5'), ('2', '2'), ('1.4', '1.4'), ('1', '1'), ('1.4', '1.4'), ('0.5', '0.5')]\n",
            "Epoch=52, Train Loss=0.17829044579834225, Test Loss=0.13505306022422275 Accuracy=0.9681122448979592\n",
            "100% 7056/7056 [01:41<00:00, 69.23it/s]\n",
            "100% 784/784 [00:04<00:00, 157.70it/s]\n",
            "[('3.6', '3.6'), ('3.6', '3.6'), ('2', '2'), ('1', '0.'), ('17.5', '17.5'), ('2', '2'), ('1.4', '1.4'), ('1', '1'), ('1.4', '1.4'), ('0.5', '0.5')]\n",
            "Epoch=53, Train Loss=0.1773603852017827, Test Loss=0.15357500069765184 Accuracy=0.9477040816326531\n",
            "100% 7056/7056 [01:42<00:00, 68.59it/s]\n",
            "100% 784/784 [00:04<00:00, 161.73it/s]\n",
            "[('3.6', '3.6'), ('3.6', '3.6'), ('2', '2'), ('1', '0'), ('17.5', '17.5'), ('2', '2'), ('1.4', '1.4'), ('1', '1'), ('1.4', '1.4'), ('0.5', '0.5')]\n",
            "Epoch=54, Train Loss=0.1783886006236728, Test Loss=0.23477245678730804 Accuracy=0.8813775510204082\n",
            "Epoch    55: reducing learning rate of group 0 to 1.5360e-04.\n",
            "100% 7056/7056 [01:41<00:00, 69.31it/s]\n",
            "100% 784/784 [00:04<00:00, 159.36it/s]\n",
            "[('3.6', '3.6'), ('3.6', '3.6'), ('2', '2'), ('1', '1'), ('17.5', '17.5'), ('2', '2'), ('1.4', '1.4'), ('1', '1'), ('1.4', '1.4'), ('0.5', '0.5')]\n",
            "Epoch=55, Train Loss=0.17009937924446691, Test Loss=0.12316451641868761 Accuracy=0.9591836734693877\n",
            " 24% 1719/7056 [00:25<01:21, 65.63it/s]Traceback (most recent call last):\n",
            "  File \"train.py\", line 138, in <module>\n",
            "    run_training()\n",
            "  File \"train.py\", line 121, in run_training\n",
            "    train_loss = engine.train_fn(model, train_loader, optimizer)\n",
            "  File \"/content/captcha-recognition-pytorch/engine.py\", line 14, in train_fn\n",
            "    _, loss = model(**data)\n",
            "  File \"/usr/local/lib/python3.6/dist-packages/torch/nn/modules/module.py\", line 727, in _call_impl\n",
            "    result = self.forward(*input, **kwargs)\n",
            "  File \"/content/captcha-recognition-pytorch/model.py\", line 28, in forward\n",
            "    x, _ = self.lstm(x)\n",
            "  File \"/usr/local/lib/python3.6/dist-packages/torch/nn/modules/module.py\", line 727, in _call_impl\n",
            "    result = self.forward(*input, **kwargs)\n",
            "  File \"/usr/local/lib/python3.6/dist-packages/torch/nn/modules/rnn.py\", line 740, in forward\n",
            "    self.dropout, self.training, self.bidirectional, self.batch_first)\n",
            "KeyboardInterrupt\n",
            " 24% 1719/7056 [00:25<01:18, 67.56it/s]\n"
          ],
          "name": "stdout"
        }
      ]
    },
    {
      "cell_type": "code",
      "metadata": {
        "id": "yWqjPyINd0C8",
        "colab": {
          "base_uri": "https://localhost:8080/",
          "height": 350
        },
        "outputId": "884fd972-20d9-421c-97f9-ad81ec5d4d74"
      },
      "source": [
        "import os\n",
        "import glob\n",
        "import torch\n",
        "import numpy as np\n",
        "\n",
        "import albumentations\n",
        "from sklearn import preprocessing\n",
        "from sklearn import model_selection\n",
        "from sklearn import metrics\n",
        "import config\n",
        "import dataset\n",
        "import engine\n",
        "image_files = glob.glob(os.path.join(config.DATA_DIR, \"*.png\"))\n",
        "targets_orig = [x.split(\"/\")[-1][:-4].split('_')[0] for x in image_files]\n",
        "targets = [[c for c in x] for x in targets_orig]\n",
        "targets_flat = [c for clist in targets for c in clist]\n",
        "\n",
        "lbl_enc = preprocessing.LabelEncoder()\n",
        "lbl_enc.fit(targets_flat)\n",
        "targets_enc = [lbl_enc.transform(x) for x in targets]\n",
        "targets_enc = np.array(targets_enc)\n",
        "targets_enc = targets_enc + 1\n",
        "\n",
        "\n",
        "(\n",
        "        train_imgs,\n",
        "        test_imgs,\n",
        "        train_targets,\n",
        "        test_targets,\n",
        "        _,\n",
        "        test_targets_orig,\n",
        ") = model_selection.train_test_split(image_files, targets_enc, targets_orig, test_size=0.1, random_state=42)\n",
        "    # print(len(train_imgs))\n",
        "    # print(train_imgs)\n",
        "    # print(len(test_imgs))\n",
        "    # print(test_imgs)\n",
        "\n",
        "#     # print(len(test_targets_orig))\n",
        "#     # print(test_targets_orig)\n",
        "\n",
        "train_dataset= dataset.ClassificationDataset(\n",
        "        image_paths=train_imgs,\n",
        "        targets=train_targets\n",
        "        # resize=(config.IMAGE_HEIGHT, config.IMAGE_WIDTH),\n",
        "    )"
      ],
      "execution_count": null,
      "outputs": [
        {
          "output_type": "error",
          "ename": "RuntimeError",
          "evalue": "ignored",
          "traceback": [
            "\u001b[0;31m---------------------------------------------------------------------------\u001b[0m",
            "\u001b[0;31mRuntimeError\u001b[0m                              Traceback (most recent call last)",
            "\u001b[0;32m<ipython-input-5-81ebc1cbc4ac>\u001b[0m in \u001b[0;36m<module>\u001b[0;34m()\u001b[0m\n\u001b[1;32m      1\u001b[0m \u001b[0;32mimport\u001b[0m \u001b[0mos\u001b[0m\u001b[0;34m\u001b[0m\u001b[0;34m\u001b[0m\u001b[0m\n\u001b[1;32m      2\u001b[0m \u001b[0;32mimport\u001b[0m \u001b[0mglob\u001b[0m\u001b[0;34m\u001b[0m\u001b[0;34m\u001b[0m\u001b[0m\n\u001b[0;32m----> 3\u001b[0;31m \u001b[0;32mimport\u001b[0m \u001b[0mtorch\u001b[0m\u001b[0;34m\u001b[0m\u001b[0;34m\u001b[0m\u001b[0m\n\u001b[0m\u001b[1;32m      4\u001b[0m \u001b[0;32mimport\u001b[0m \u001b[0mnumpy\u001b[0m \u001b[0;32mas\u001b[0m \u001b[0mnp\u001b[0m\u001b[0;34m\u001b[0m\u001b[0;34m\u001b[0m\u001b[0m\n\u001b[1;32m      5\u001b[0m \u001b[0;34m\u001b[0m\u001b[0m\n",
            "\u001b[0;32m/usr/local/lib/python3.6/dist-packages/torch/__init__.py\u001b[0m in \u001b[0;36m<module>\u001b[0;34m()\u001b[0m\n\u001b[1;32m    188\u001b[0m     \u001b[0;32mif\u001b[0m \u001b[0mUSE_GLOBAL_DEPS\u001b[0m\u001b[0;34m:\u001b[0m\u001b[0;34m\u001b[0m\u001b[0;34m\u001b[0m\u001b[0m\n\u001b[1;32m    189\u001b[0m         \u001b[0m_load_global_deps\u001b[0m\u001b[0;34m(\u001b[0m\u001b[0;34m)\u001b[0m\u001b[0;34m\u001b[0m\u001b[0;34m\u001b[0m\u001b[0m\n\u001b[0;32m--> 190\u001b[0;31m     \u001b[0;32mfrom\u001b[0m \u001b[0mtorch\u001b[0m\u001b[0;34m.\u001b[0m\u001b[0m_C\u001b[0m \u001b[0;32mimport\u001b[0m \u001b[0;34m*\u001b[0m\u001b[0;34m\u001b[0m\u001b[0;34m\u001b[0m\u001b[0m\n\u001b[0m\u001b[1;32m    191\u001b[0m \u001b[0;34m\u001b[0m\u001b[0m\n\u001b[1;32m    192\u001b[0m \u001b[0;31m# Appease the type checker; ordinarily this binding is inserted by the\u001b[0m\u001b[0;34m\u001b[0m\u001b[0;34m\u001b[0m\u001b[0;34m\u001b[0m\u001b[0m\n",
            "\u001b[0;31mRuntimeError\u001b[0m: KeyboardInterrupt: "
          ]
        }
      ]
    },
    {
      "cell_type": "code",
      "metadata": {
        "id": "FVC8bsJcuEBQ"
      },
      "source": [
        "\n",
        "from PIL import Image\n",
        "image = np.array(Image.open(''))"
      ],
      "execution_count": null,
      "outputs": []
    },
    {
      "cell_type": "code",
      "metadata": {
        "id": "HFKEGR-muEEy",
        "colab": {
          "base_uri": "https://localhost:8080/",
          "height": 163
        },
        "outputId": "6829f7ca-47c2-439e-9938-e696916f39b4"
      },
      "source": [
        "plt.imshow(image)"
      ],
      "execution_count": null,
      "outputs": [
        {
          "output_type": "error",
          "ename": "NameError",
          "evalue": "ignored",
          "traceback": [
            "\u001b[0;31m---------------------------------------------------------------------------\u001b[0m",
            "\u001b[0;31mNameError\u001b[0m                                 Traceback (most recent call last)",
            "\u001b[0;32m<ipython-input-4-12ba6d47bd7e>\u001b[0m in \u001b[0;36m<module>\u001b[0;34m()\u001b[0m\n\u001b[0;32m----> 1\u001b[0;31m \u001b[0mplt\u001b[0m\u001b[0;34m.\u001b[0m\u001b[0mimshow\u001b[0m\u001b[0;34m(\u001b[0m\u001b[0mimage\u001b[0m\u001b[0;34m)\u001b[0m\u001b[0;34m\u001b[0m\u001b[0;34m\u001b[0m\u001b[0m\n\u001b[0m",
            "\u001b[0;31mNameError\u001b[0m: name 'plt' is not defined"
          ]
        }
      ]
    },
    {
      "cell_type": "code",
      "metadata": {
        "id": "qAEnHk3-rN-N",
        "colab": {
          "base_uri": "https://localhost:8080/",
          "height": 223
        },
        "outputId": "72250e18-4a88-4073-b660-89a9cd030c8b"
      },
      "source": [
        "import matplotlib.pyplot as plt\n",
        "%matplotlib inline\n",
        "np_img = train_dataset[2]['images']\n",
        "transposed = np.transpose(np_img,(1,2,0))\n",
        "plt.imshow(transposed)"
      ],
      "execution_count": null,
      "outputs": [
        {
          "output_type": "error",
          "ename": "NameError",
          "evalue": "ignored",
          "traceback": [
            "\u001b[0;31m---------------------------------------------------------------------------\u001b[0m",
            "\u001b[0;31mNameError\u001b[0m                                 Traceback (most recent call last)",
            "\u001b[0;32m<ipython-input-1-4321f6842963>\u001b[0m in \u001b[0;36m<module>\u001b[0;34m()\u001b[0m\n\u001b[1;32m      1\u001b[0m \u001b[0;32mimport\u001b[0m \u001b[0mmatplotlib\u001b[0m\u001b[0;34m.\u001b[0m\u001b[0mpyplot\u001b[0m \u001b[0;32mas\u001b[0m \u001b[0mplt\u001b[0m\u001b[0;34m\u001b[0m\u001b[0;34m\u001b[0m\u001b[0m\n\u001b[1;32m      2\u001b[0m \u001b[0mget_ipython\u001b[0m\u001b[0;34m(\u001b[0m\u001b[0;34m)\u001b[0m\u001b[0;34m.\u001b[0m\u001b[0mmagic\u001b[0m\u001b[0;34m(\u001b[0m\u001b[0;34m'matplotlib inline'\u001b[0m\u001b[0;34m)\u001b[0m\u001b[0;34m\u001b[0m\u001b[0;34m\u001b[0m\u001b[0m\n\u001b[0;32m----> 3\u001b[0;31m \u001b[0mnp_img\u001b[0m \u001b[0;34m=\u001b[0m \u001b[0mtrain_dataset\u001b[0m\u001b[0;34m[\u001b[0m\u001b[0;36m2\u001b[0m\u001b[0;34m]\u001b[0m\u001b[0;34m[\u001b[0m\u001b[0;34m'images'\u001b[0m\u001b[0;34m]\u001b[0m\u001b[0;34m\u001b[0m\u001b[0;34m\u001b[0m\u001b[0m\n\u001b[0m\u001b[1;32m      4\u001b[0m \u001b[0mtransposed\u001b[0m \u001b[0;34m=\u001b[0m \u001b[0mnp\u001b[0m\u001b[0;34m.\u001b[0m\u001b[0mtranspose\u001b[0m\u001b[0;34m(\u001b[0m\u001b[0mnp_img\u001b[0m\u001b[0;34m,\u001b[0m\u001b[0;34m(\u001b[0m\u001b[0;36m1\u001b[0m\u001b[0;34m,\u001b[0m\u001b[0;36m2\u001b[0m\u001b[0;34m,\u001b[0m\u001b[0;36m0\u001b[0m\u001b[0;34m)\u001b[0m\u001b[0;34m)\u001b[0m\u001b[0;34m\u001b[0m\u001b[0;34m\u001b[0m\u001b[0m\n\u001b[1;32m      5\u001b[0m \u001b[0mplt\u001b[0m\u001b[0;34m.\u001b[0m\u001b[0mimshow\u001b[0m\u001b[0;34m(\u001b[0m\u001b[0mtransposed\u001b[0m\u001b[0;34m)\u001b[0m\u001b[0;34m\u001b[0m\u001b[0;34m\u001b[0m\u001b[0m\n",
            "\u001b[0;31mNameError\u001b[0m: name 'train_dataset' is not defined"
          ]
        }
      ]
    },
    {
      "cell_type": "code",
      "metadata": {
        "id": "fJeaCT2hyzOD"
      },
      "source": [
        "def decode_predictions(preds, encoder):\n",
        "    preds = preds.permute(1, 0, 2)\n",
        "    preds = torch.softmax(preds, 2)\n",
        "    preds = torch.argmax(preds, 2)\n",
        "    preds = preds.detach().cpu().numpy()\n",
        "    cap_preds = []\n",
        "    for j in range(preds.shape[0]):\n",
        "        temp = []\n",
        "        for k in preds[j, :]:\n",
        "            k = k - 1\n",
        "            if k == -1:\n",
        "                temp.append(\"§\")\n",
        "            else:\n",
        "                p = encoder.inverse_transform([k])[0]\n",
        "                temp.append(p)\n",
        "        tp = \"\".join(temp).replace(\"§\", \"\")\n",
        "        cap_preds.append(remove_duplicates(tp))\n",
        "    return cap_preds\n"
      ],
      "execution_count": null,
      "outputs": []
    },
    {
      "cell_type": "code",
      "metadata": {
        "id": "RPhMcxr2tf97"
      },
      "source": [
        "def remove_duplicates(x):\n",
        "    if len(x) < 2:\n",
        "        return x\n",
        "    fin = \"\"\n",
        "    for j in x:\n",
        "        if fin == \"\":\n",
        "            fin = j\n",
        "        else:\n",
        "            if j == fin[-1]:\n",
        "                continue\n",
        "            else:\n",
        "                fin = fin + j\n",
        "    return fin"
      ],
      "execution_count": null,
      "outputs": []
    },
    {
      "cell_type": "code",
      "metadata": {
        "id": "ripNQLwCtgIa"
      },
      "source": [
        ""
      ],
      "execution_count": null,
      "outputs": []
    },
    {
      "cell_type": "code",
      "metadata": {
        "id": "38hV8ADFdeR-",
        "colab": {
          "base_uri": "https://localhost:8080/",
          "height": 190
        },
        "outputId": "80cbd6a6-0e7c-40df-a603-7ac17783802f"
      },
      "source": [
        ""
      ],
      "execution_count": null,
      "outputs": [
        {
          "output_type": "stream",
          "text": [
            "Clipping input data to the valid range for imshow with RGB data ([0..1] for floats or [0..255] for integers).\n"
          ],
          "name": "stderr"
        },
        {
          "output_type": "execute_result",
          "data": {
            "text/plain": [
              "<matplotlib.image.AxesImage at 0x7f91eda65748>"
            ]
          },
          "metadata": {
            "tags": []
          },
          "execution_count": 59
        },
        {
          "output_type": "display_data",
          "data": {
            "image/png": "[encoded data removed]",
            "text/plain": [
              "<Figure size 432x288 with 1 Axes>"
            ]
          },
          "metadata": {
            "tags": [],
            "needs_background": "light"
          }
        }
      ]
    },
    {
      "cell_type": "code",
      "metadata": {
        "id": "xlv65_BsdeXE"
      },
      "source": [
        "\n"
      ],
      "execution_count": null,
      "outputs": []
    },
    {
      "cell_type": "code",
      "metadata": {
        "id": "-t1CNvbRelS1"
      },
      "source": [
        "x = torch.tensor(transposed).permute(2,0,1)\n",
        "x = x.reshape(1,*x.shape).to('cuda')\n",
        "x.shape"
      ],
      "execution_count": null,
      "outputs": []
    },
    {
      "cell_type": "code",
      "metadata": {
        "id": "0IZ5uoecdex0",
        "colab": {
          "base_uri": "https://localhost:8080/",
          "height": 527
        },
        "outputId": "54b08f93-7249-4d0e-b729-8a09e077e512"
      },
      "source": [
        "import torch\n",
        "model = torch.load('/content/gdrive/My Drive/darknet/bin/darknet/weights/model.pth')\n",
        "#model.eval()\n",
        "print(model)"
      ],
      "execution_count": null,
      "outputs": [
        {
          "output_type": "error",
          "ename": "ModuleNotFoundError",
          "evalue": "ignored",
          "traceback": [
            "\u001b[0;31m---------------------------------------------------------------------------\u001b[0m",
            "\u001b[0;31mModuleNotFoundError\u001b[0m                       Traceback (most recent call last)",
            "\u001b[0;32m<ipython-input-4-a5592119668a>\u001b[0m in \u001b[0;36m<module>\u001b[0;34m()\u001b[0m\n\u001b[1;32m      1\u001b[0m \u001b[0;32mimport\u001b[0m \u001b[0mtorch\u001b[0m\u001b[0;34m\u001b[0m\u001b[0;34m\u001b[0m\u001b[0m\n\u001b[0;32m----> 2\u001b[0;31m \u001b[0mmodel\u001b[0m \u001b[0;34m=\u001b[0m \u001b[0mtorch\u001b[0m\u001b[0;34m.\u001b[0m\u001b[0mload\u001b[0m\u001b[0;34m(\u001b[0m\u001b[0;34m'/content/gdrive/My Drive/darknet/bin/darknet/weights/model.pth'\u001b[0m\u001b[0;34m)\u001b[0m\u001b[0;34m\u001b[0m\u001b[0;34m\u001b[0m\u001b[0m\n\u001b[0m\u001b[1;32m      3\u001b[0m \u001b[0;31m#model.eval()\u001b[0m\u001b[0;34m\u001b[0m\u001b[0;34m\u001b[0m\u001b[0;34m\u001b[0m\u001b[0m\n\u001b[1;32m      4\u001b[0m \u001b[0mprint\u001b[0m\u001b[0;34m(\u001b[0m\u001b[0mmodel\u001b[0m\u001b[0;34m)\u001b[0m\u001b[0;34m\u001b[0m\u001b[0;34m\u001b[0m\u001b[0m\n",
            "\u001b[0;32m/usr/local/lib/python3.6/dist-packages/torch/serialization.py\u001b[0m in \u001b[0;36mload\u001b[0;34m(f, map_location, pickle_module, **pickle_load_args)\u001b[0m\n\u001b[1;32m    592\u001b[0m                     \u001b[0mopened_file\u001b[0m\u001b[0;34m.\u001b[0m\u001b[0mseek\u001b[0m\u001b[0;34m(\u001b[0m\u001b[0morig_position\u001b[0m\u001b[0;34m)\u001b[0m\u001b[0;34m\u001b[0m\u001b[0;34m\u001b[0m\u001b[0m\n\u001b[1;32m    593\u001b[0m                     \u001b[0;32mreturn\u001b[0m \u001b[0mtorch\u001b[0m\u001b[0;34m.\u001b[0m\u001b[0mjit\u001b[0m\u001b[0;34m.\u001b[0m\u001b[0mload\u001b[0m\u001b[0;34m(\u001b[0m\u001b[0mopened_file\u001b[0m\u001b[0;34m)\u001b[0m\u001b[0;34m\u001b[0m\u001b[0;34m\u001b[0m\u001b[0m\n\u001b[0;32m--> 594\u001b[0;31m                 \u001b[0;32mreturn\u001b[0m \u001b[0m_load\u001b[0m\u001b[0;34m(\u001b[0m\u001b[0mopened_zipfile\u001b[0m\u001b[0;34m,\u001b[0m \u001b[0mmap_location\u001b[0m\u001b[0;34m,\u001b[0m \u001b[0mpickle_module\u001b[0m\u001b[0;34m,\u001b[0m \u001b[0;34m**\u001b[0m\u001b[0mpickle_load_args\u001b[0m\u001b[0;34m)\u001b[0m\u001b[0;34m\u001b[0m\u001b[0;34m\u001b[0m\u001b[0m\n\u001b[0m\u001b[1;32m    595\u001b[0m         \u001b[0;32mreturn\u001b[0m \u001b[0m_legacy_load\u001b[0m\u001b[0;34m(\u001b[0m\u001b[0mopened_file\u001b[0m\u001b[0;34m,\u001b[0m \u001b[0mmap_location\u001b[0m\u001b[0;34m,\u001b[0m \u001b[0mpickle_module\u001b[0m\u001b[0;34m,\u001b[0m \u001b[0;34m**\u001b[0m\u001b[0mpickle_load_args\u001b[0m\u001b[0;34m)\u001b[0m\u001b[0;34m\u001b[0m\u001b[0;34m\u001b[0m\u001b[0m\n\u001b[1;32m    596\u001b[0m \u001b[0;34m\u001b[0m\u001b[0m\n",
            "\u001b[0;32m/usr/local/lib/python3.6/dist-packages/torch/serialization.py\u001b[0m in \u001b[0;36m_load\u001b[0;34m(zip_file, map_location, pickle_module, pickle_file, **pickle_load_args)\u001b[0m\n\u001b[1;32m    851\u001b[0m     \u001b[0munpickler\u001b[0m \u001b[0;34m=\u001b[0m \u001b[0mpickle_module\u001b[0m\u001b[0;34m.\u001b[0m\u001b[0mUnpickler\u001b[0m\u001b[0;34m(\u001b[0m\u001b[0mdata_file\u001b[0m\u001b[0;34m,\u001b[0m \u001b[0;34m**\u001b[0m\u001b[0mpickle_load_args\u001b[0m\u001b[0;34m)\u001b[0m\u001b[0;34m\u001b[0m\u001b[0;34m\u001b[0m\u001b[0m\n\u001b[1;32m    852\u001b[0m     \u001b[0munpickler\u001b[0m\u001b[0;34m.\u001b[0m\u001b[0mpersistent_load\u001b[0m \u001b[0;34m=\u001b[0m \u001b[0mpersistent_load\u001b[0m\u001b[0;34m\u001b[0m\u001b[0;34m\u001b[0m\u001b[0m\n\u001b[0;32m--> 853\u001b[0;31m     \u001b[0mresult\u001b[0m \u001b[0;34m=\u001b[0m \u001b[0munpickler\u001b[0m\u001b[0;34m.\u001b[0m\u001b[0mload\u001b[0m\u001b[0;34m(\u001b[0m\u001b[0;34m)\u001b[0m\u001b[0;34m\u001b[0m\u001b[0;34m\u001b[0m\u001b[0m\n\u001b[0m\u001b[1;32m    854\u001b[0m \u001b[0;34m\u001b[0m\u001b[0m\n\u001b[1;32m    855\u001b[0m     \u001b[0mtorch\u001b[0m\u001b[0;34m.\u001b[0m\u001b[0m_utils\u001b[0m\u001b[0;34m.\u001b[0m\u001b[0m_validate_loaded_sparse_tensors\u001b[0m\u001b[0;34m(\u001b[0m\u001b[0;34m)\u001b[0m\u001b[0;34m\u001b[0m\u001b[0;34m\u001b[0m\u001b[0m\n",
            "\u001b[0;31mModuleNotFoundError\u001b[0m: No module named 'model'",
            "",
            "\u001b[0;31m---------------------------------------------------------------------------\u001b[0;32m\nNOTE: If your import is failing due to a missing package, you can\nmanually install dependencies using either !pip or !apt.\n\nTo view examples of installing some common dependencies, click the\n\"Open Examples\" button below.\n\u001b[0;31m---------------------------------------------------------------------------\u001b[0m\n"
          ]
        }
      ]
    },
    {
      "cell_type": "code",
      "metadata": {
        "id": "RFi7bMwnhVG_"
      },
      "source": [
        "vp = model(x)[0]"
      ],
      "execution_count": null,
      "outputs": []
    },
    {
      "cell_type": "code",
      "metadata": {
        "id": "nx2BgSKWde1P"
      },
      "source": [
        "valid_captcha_preds = []\n",
        "current_preds = decode_predictions(vp, lbl_enc)\n",
        "valid_captcha_preds.extend(current_preds)"
      ],
      "execution_count": null,
      "outputs": []
    },
    {
      "cell_type": "code",
      "metadata": {
        "id": "GrYojCR6YGm5",
        "colab": {
          "base_uri": "https://localhost:8080/"
        },
        "outputId": "397a7e00-4344-47df-d3bc-1d03926f729f"
      },
      "source": [
        "valid_captcha_preds"
      ],
      "execution_count": null,
      "outputs": [
        {
          "output_type": "execute_result",
          "data": {
            "text/plain": [
              "['14']"
            ]
          },
          "metadata": {
            "tags": []
          },
          "execution_count": 55
        }
      ]
    },
    {
      "cell_type": "code",
      "metadata": {
        "id": "ehy67TPFqxPK"
      },
      "source": [
        ""
      ],
      "execution_count": null,
      "outputs": []
    }
  ]
}