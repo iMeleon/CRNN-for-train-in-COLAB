{
  "nbformat": 4,
  "nbformat_minor": 0,
  "metadata": {
    "colab": {
      "name": "Копия блокнота \"crnn-pytorch.ipynb\"",
      "provenance": [],
      "collapsed_sections": []
    },
    "kernelspec": {
      "name": "python3",
      "display_name": "Python 3"
    },
    "accelerator": "GPU"
  },
  "cells": [
    {
      "cell_type": "code",
      "metadata": {
        "id": "BPs_L0OUX4O8",
        "colab": {
          "base_uri": "https://localhost:8080/"
        },
        "outputId": "de45ea77-c447-4a60-e882-285d103c51ec"
      },
      "source": [
        "%load_ext autoreload\n",
        "%autoreload 2\n",
        "!git clone https://github.com/iMeleon/captcha-recognition-pytorch\n",
        "%cd /content/captcha-recognition-pytorch\n"
      ],
      "execution_count": null,
      "outputs": [
        {
          "output_type": "stream",
          "text": [
            "Cloning into 'captcha-recognition-pytorch'...\n",
            "remote: Enumerating objects: 51, done.\u001b[K\n",
            "remote: Counting objects: 100% (51/51), done.\u001b[K\n",
            "remote: Compressing objects: 100% (38/38), done.\u001b[K\n",
            "remote: Total 51 (delta 26), reused 27 (delta 11), pack-reused 0\u001b[K\n",
            "Unpacking objects: 100% (51/51), done.\n",
            "/content/captcha-recognition-pytorch\n"
          ],
          "name": "stdout"
        }
      ]
    },
    {
      "cell_type": "code",
      "metadata": {
        "id": "DLa6LmNCgEAp",
        "colab": {
          "base_uri": "https://localhost:8080/"
        },
        "outputId": "73c3d364-7758-43fa-cb8f-f12af42d6d85"
      },
      "source": [
        "from google.colab import drive\n",
        "drive.mount('/content/gdrive')"
      ],
      "execution_count": null,
      "outputs": [
        {
          "output_type": "stream",
          "text": [
            "Mounted at /content/gdrive\n"
          ],
          "name": "stdout"
        }
      ]
    },
    {
      "cell_type": "code",
      "metadata": {
        "id": "9j03t4xnNb9Q"
      },
      "source": [
        "config = '''\n",
        "DATA_DIR = \"\"\n",
        "MODEL_SAVE_PATH = \"\"\n",
        "LABEL_ENCODER_SAVE_PATH = \"\"\n",
        "BATCH_SIZE = 1\n",
        "IMAGE_WIDTH = 150\n",
        "IMAGE_HEIGHT = 38\n",
        "NUM_WORKERS = 8\n",
        "EPOCHS = 200\n",
        "DEVICE = \"cuda\"\n",
        "'''\n",
        "with open('config.py', 'w') as f:\n",
        "    f.write(config)\n"
      ],
      "execution_count": null,
      "outputs": []
    },
    {
      "cell_type": "markdown",
      "metadata": {
        "id": "V8JCqo-oWmId"
      },
      "source": [
        ""
      ]
    },
    {
      "cell_type": "code",
      "metadata": {
        "id": "qkR_9zzZNcDf"
      },
      "source": [
        "!python train.py"
      ],
      "execution_count": null,
      "outputs": []
    }
  ]
}
